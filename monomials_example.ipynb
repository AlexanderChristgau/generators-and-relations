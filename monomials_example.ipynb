{
 "cells": [
  {
   "cell_type": "code",
   "execution_count": 7,
   "metadata": {},
   "outputs": [
    {
     "name": "stdout",
     "output_type": "stream",
     "text": [
      "The autoreload extension is already loaded. To reload it, use:\n",
      "  %reload_ext autoreload\n"
     ]
    }
   ],
   "source": [
    "%load_ext autoreload\n",
    "%autoreload 2\n",
    "\n",
    "from recursion_formula import *\n",
    "from compute_relations import * "
   ]
  },
  {
   "cell_type": "markdown",
   "metadata": {},
   "source": [
    "Run 'recursion_formula.py' to generate all monomials, or alternatively, run the commented lines below."
   ]
  },
  {
   "cell_type": "code",
   "execution_count": 8,
   "metadata": {},
   "outputs": [],
   "source": [
    "# monomials = generate_monomials_sorted(d = 30, use_cycles=True, max_norm=16)\n",
    "# with open('monomials_cylces.pkl', 'wb') as file:\n",
    "#         pickle.dump(monomials, file)\n",
    "with open('monomials_cylces.pkl', 'rb') as file:\n",
    "        sorted_monomials = pickle.load(file)"
   ]
  },
  {
   "cell_type": "code",
   "execution_count": 9,
   "metadata": {},
   "outputs": [
    {
     "data": {
      "text/plain": [
       "[('d', {(0, 0, 0, 1): 1}),\n",
       " ('ac', {(1, 0, 1): 1, (0, 0, 0, 1): 5}),\n",
       " ('aab', {(2, 1): 2, (1, 0, 1): 8, (0, 2): 6, (0, 0, 0, 1): 25}),\n",
       " ('aaaa',\n",
       "  {(4,): 24, (2, 1): 36, (1, 0, 1): 64, (0, 2): 54, (0, 0, 0, 1): 125}),\n",
       " ('bb', {(0, 2): 2, (0, 0, 0, 1): 5})]"
      ]
     },
     "execution_count": 9,
     "metadata": {},
     "output_type": "execute_result"
    }
   ],
   "source": [
    "### Output monomials of norm 4\n",
    "sorted_monomials[4]"
   ]
  },
  {
   "cell_type": "code",
   "execution_count": 10,
   "metadata": {},
   "outputs": [
    {
     "name": "stdout",
     "output_type": "stream",
     "text": [
      "A(3):\n",
      "[1]  sum: 1\n",
      "A(4):\n",
      "[1, 2]  sum: 3\n",
      "A(5):\n",
      "[2, 1]  sum: 3\n",
      "A(6):\n",
      "[1, 3, 2]  sum: 6\n",
      "A(7):\n",
      "[2, 4, 1]  sum: 7\n",
      "A(8):\n",
      "[1, 4, 4, 2]  sum: 11\n",
      "A(9):\n",
      "[2, 5, 5, 1]  sum: 13\n",
      "A(10):\n",
      "[1, 4, 7, 4, 2]  sum: 18\n"
     ]
    }
   ],
   "source": [
    "# Print the number of minimal relations in A(d) for each norm starting from d//2 + 1.\n",
    "for d in range(3,11):\n",
    "    print(\"A({}):\".format(d))\n",
    "    n_rels = compute_minimal_relations(d,sorted_monomials,extra_relations=False)\n",
    "    print(n_rels, ' sum:',sum(n_res))"
   ]
  }
 ],
 "metadata": {
  "interpreter": {
   "hash": "222796abe2f2f6e9dcfa4f1900b42883f9847b23d225585b23bb0d9c031e077c"
  },
  "kernelspec": {
   "display_name": "Python 3.9.7 64-bit ('base': conda)",
   "language": "python",
   "name": "python3"
  },
  "language_info": {
   "codemirror_mode": {
    "name": "ipython",
    "version": 3
   },
   "file_extension": ".py",
   "mimetype": "text/x-python",
   "name": "python",
   "nbconvert_exporter": "python",
   "pygments_lexer": "ipython3",
   "version": "3.9.7"
  },
  "orig_nbformat": 4
 },
 "nbformat": 4,
 "nbformat_minor": 2
}
